{
 "cells": [
  {
   "cell_type": "markdown",
   "id": "78ce1839-0d5e-4017-bf62-02cb82215896",
   "metadata": {},
   "source": [
    "# Appendix"
   ]
  },
  {
   "cell_type": "code",
   "execution_count": 2,
   "id": "807a04d8",
   "metadata": {},
   "outputs": [],
   "source": [
    "#import packages\n",
    "import numpy as np\n",
    "import pandas as pd\n",
    "import matplotlib.pyplot as plt\n",
    "import duckdb"
   ]
  },
  {
   "cell_type": "code",
   "execution_count": 3,
   "id": "485f4920",
   "metadata": {},
   "outputs": [
    {
     "name": "stdout",
     "output_type": "stream",
     "text": [
      "(8494, 27)\n"
     ]
    },
    {
     "data": {
      "text/html": [
       "<div>\n",
       "<style scoped>\n",
       "    .dataframe tbody tr th:only-of-type {\n",
       "        vertical-align: middle;\n",
       "    }\n",
       "\n",
       "    .dataframe tbody tr th {\n",
       "        vertical-align: top;\n",
       "    }\n",
       "\n",
       "    .dataframe thead th {\n",
       "        text-align: right;\n",
       "    }\n",
       "</style>\n",
       "<table border=\"1\" class=\"dataframe\">\n",
       "  <thead>\n",
       "    <tr style=\"text-align: right;\">\n",
       "      <th></th>\n",
       "      <th>product_id</th>\n",
       "      <th>product_name</th>\n",
       "      <th>brand_id</th>\n",
       "      <th>brand_name</th>\n",
       "      <th>loves_count</th>\n",
       "      <th>rating</th>\n",
       "      <th>reviews</th>\n",
       "      <th>size</th>\n",
       "      <th>variation_type</th>\n",
       "      <th>variation_value</th>\n",
       "      <th>...</th>\n",
       "      <th>online_only</th>\n",
       "      <th>out_of_stock</th>\n",
       "      <th>sephora_exclusive</th>\n",
       "      <th>highlights</th>\n",
       "      <th>primary_category</th>\n",
       "      <th>secondary_category</th>\n",
       "      <th>tertiary_category</th>\n",
       "      <th>child_count</th>\n",
       "      <th>child_max_price</th>\n",
       "      <th>child_min_price</th>\n",
       "    </tr>\n",
       "  </thead>\n",
       "  <tbody>\n",
       "    <tr>\n",
       "      <th>0</th>\n",
       "      <td>P473671</td>\n",
       "      <td>Fragrance Discovery Set</td>\n",
       "      <td>6342</td>\n",
       "      <td>19-69</td>\n",
       "      <td>6320</td>\n",
       "      <td>3.6364</td>\n",
       "      <td>11.0</td>\n",
       "      <td>NaN</td>\n",
       "      <td>NaN</td>\n",
       "      <td>NaN</td>\n",
       "      <td>...</td>\n",
       "      <td>1</td>\n",
       "      <td>0</td>\n",
       "      <td>0</td>\n",
       "      <td>['Unisex/ Genderless Scent', 'Warm &amp;Spicy Scen...</td>\n",
       "      <td>Fragrance</td>\n",
       "      <td>Value &amp; Gift Sets</td>\n",
       "      <td>Perfume Gift Sets</td>\n",
       "      <td>0</td>\n",
       "      <td>NaN</td>\n",
       "      <td>NaN</td>\n",
       "    </tr>\n",
       "    <tr>\n",
       "      <th>1</th>\n",
       "      <td>P473668</td>\n",
       "      <td>La Habana Eau de Parfum</td>\n",
       "      <td>6342</td>\n",
       "      <td>19-69</td>\n",
       "      <td>3827</td>\n",
       "      <td>4.1538</td>\n",
       "      <td>13.0</td>\n",
       "      <td>3.4 oz/ 100 mL</td>\n",
       "      <td>Size + Concentration + Formulation</td>\n",
       "      <td>3.4 oz/ 100 mL</td>\n",
       "      <td>...</td>\n",
       "      <td>1</td>\n",
       "      <td>0</td>\n",
       "      <td>0</td>\n",
       "      <td>['Unisex/ Genderless Scent', 'Layerable Scent'...</td>\n",
       "      <td>Fragrance</td>\n",
       "      <td>Women</td>\n",
       "      <td>Perfume</td>\n",
       "      <td>2</td>\n",
       "      <td>85.0</td>\n",
       "      <td>30.0</td>\n",
       "    </tr>\n",
       "    <tr>\n",
       "      <th>2</th>\n",
       "      <td>P473662</td>\n",
       "      <td>Rainbow Bar Eau de Parfum</td>\n",
       "      <td>6342</td>\n",
       "      <td>19-69</td>\n",
       "      <td>3253</td>\n",
       "      <td>4.2500</td>\n",
       "      <td>16.0</td>\n",
       "      <td>3.4 oz/ 100 mL</td>\n",
       "      <td>Size + Concentration + Formulation</td>\n",
       "      <td>3.4 oz/ 100 mL</td>\n",
       "      <td>...</td>\n",
       "      <td>1</td>\n",
       "      <td>0</td>\n",
       "      <td>0</td>\n",
       "      <td>['Unisex/ Genderless Scent', 'Layerable Scent'...</td>\n",
       "      <td>Fragrance</td>\n",
       "      <td>Women</td>\n",
       "      <td>Perfume</td>\n",
       "      <td>2</td>\n",
       "      <td>75.0</td>\n",
       "      <td>30.0</td>\n",
       "    </tr>\n",
       "    <tr>\n",
       "      <th>3</th>\n",
       "      <td>P473660</td>\n",
       "      <td>Kasbah Eau de Parfum</td>\n",
       "      <td>6342</td>\n",
       "      <td>19-69</td>\n",
       "      <td>3018</td>\n",
       "      <td>4.4762</td>\n",
       "      <td>21.0</td>\n",
       "      <td>3.4 oz/ 100 mL</td>\n",
       "      <td>Size + Concentration + Formulation</td>\n",
       "      <td>3.4 oz/ 100 mL</td>\n",
       "      <td>...</td>\n",
       "      <td>1</td>\n",
       "      <td>0</td>\n",
       "      <td>0</td>\n",
       "      <td>['Unisex/ Genderless Scent', 'Layerable Scent'...</td>\n",
       "      <td>Fragrance</td>\n",
       "      <td>Women</td>\n",
       "      <td>Perfume</td>\n",
       "      <td>2</td>\n",
       "      <td>75.0</td>\n",
       "      <td>30.0</td>\n",
       "    </tr>\n",
       "    <tr>\n",
       "      <th>4</th>\n",
       "      <td>P473658</td>\n",
       "      <td>Purple Haze Eau de Parfum</td>\n",
       "      <td>6342</td>\n",
       "      <td>19-69</td>\n",
       "      <td>2691</td>\n",
       "      <td>3.2308</td>\n",
       "      <td>13.0</td>\n",
       "      <td>3.4 oz/ 100 mL</td>\n",
       "      <td>Size + Concentration + Formulation</td>\n",
       "      <td>3.4 oz/ 100 mL</td>\n",
       "      <td>...</td>\n",
       "      <td>1</td>\n",
       "      <td>0</td>\n",
       "      <td>0</td>\n",
       "      <td>['Unisex/ Genderless Scent', 'Layerable Scent'...</td>\n",
       "      <td>Fragrance</td>\n",
       "      <td>Women</td>\n",
       "      <td>Perfume</td>\n",
       "      <td>2</td>\n",
       "      <td>75.0</td>\n",
       "      <td>30.0</td>\n",
       "    </tr>\n",
       "  </tbody>\n",
       "</table>\n",
       "<p>5 rows × 27 columns</p>\n",
       "</div>"
      ],
      "text/plain": [
       "  product_id               product_name  brand_id brand_name  loves_count  \\\n",
       "0    P473671    Fragrance Discovery Set      6342      19-69         6320   \n",
       "1    P473668    La Habana Eau de Parfum      6342      19-69         3827   \n",
       "2    P473662  Rainbow Bar Eau de Parfum      6342      19-69         3253   \n",
       "3    P473660       Kasbah Eau de Parfum      6342      19-69         3018   \n",
       "4    P473658  Purple Haze Eau de Parfum      6342      19-69         2691   \n",
       "\n",
       "   rating  reviews            size                      variation_type  \\\n",
       "0  3.6364     11.0             NaN                                 NaN   \n",
       "1  4.1538     13.0  3.4 oz/ 100 mL  Size + Concentration + Formulation   \n",
       "2  4.2500     16.0  3.4 oz/ 100 mL  Size + Concentration + Formulation   \n",
       "3  4.4762     21.0  3.4 oz/ 100 mL  Size + Concentration + Formulation   \n",
       "4  3.2308     13.0  3.4 oz/ 100 mL  Size + Concentration + Formulation   \n",
       "\n",
       "  variation_value  ... online_only out_of_stock  sephora_exclusive  \\\n",
       "0             NaN  ...           1            0                  0   \n",
       "1  3.4 oz/ 100 mL  ...           1            0                  0   \n",
       "2  3.4 oz/ 100 mL  ...           1            0                  0   \n",
       "3  3.4 oz/ 100 mL  ...           1            0                  0   \n",
       "4  3.4 oz/ 100 mL  ...           1            0                  0   \n",
       "\n",
       "                                          highlights  primary_category  \\\n",
       "0  ['Unisex/ Genderless Scent', 'Warm &Spicy Scen...         Fragrance   \n",
       "1  ['Unisex/ Genderless Scent', 'Layerable Scent'...         Fragrance   \n",
       "2  ['Unisex/ Genderless Scent', 'Layerable Scent'...         Fragrance   \n",
       "3  ['Unisex/ Genderless Scent', 'Layerable Scent'...         Fragrance   \n",
       "4  ['Unisex/ Genderless Scent', 'Layerable Scent'...         Fragrance   \n",
       "\n",
       "   secondary_category  tertiary_category  child_count  child_max_price  \\\n",
       "0   Value & Gift Sets  Perfume Gift Sets            0              NaN   \n",
       "1               Women            Perfume            2             85.0   \n",
       "2               Women            Perfume            2             75.0   \n",
       "3               Women            Perfume            2             75.0   \n",
       "4               Women            Perfume            2             75.0   \n",
       "\n",
       "   child_min_price  \n",
       "0              NaN  \n",
       "1             30.0  \n",
       "2             30.0  \n",
       "3             30.0  \n",
       "4             30.0  \n",
       "\n",
       "[5 rows x 27 columns]"
      ]
     },
     "execution_count": 3,
     "metadata": {},
     "output_type": "execute_result"
    }
   ],
   "source": [
    "#import packages and read csv file\n",
    "raw_df=pd.read_csv(\"product_info.csv\")\n",
    "\n",
    "print(raw_df.shape)\n",
    "raw_df.head()"
   ]
  },
  {
   "cell_type": "markdown",
   "id": "3fa43125-43e7-4b83-a949-a8a311b943d0",
   "metadata": {},
   "source": [
    "## Part 3: Data Cleaning: <a name=\"cleaning\"></a>\n",
    "Based on the research questions and my interests, I filtered out 7 variables/columns relevant to my study, including product name, brand name, loves count, rating, price, primary category, and secondary category.\n",
    "\n",
    "- Null Values: I examined the dataset for null values and subsequently dropped 278 values. Given the size of this dataframe of over 8,000 values, dropping a small fraction would not be relevant enough to make a difference.\n",
    "- Standardizing: I changed ratings and price_usd to two decimal values to ensure standardization in the real world\n",
    "- Feature Engineering (Brand Names): I categorized brand names with fewer than 10 associated products as 'Other.' I want to optimize the price prediction model as singular values for each brand proved less informative for predictive modeling.\n",
    "- Outliers: I removed outliers in love_counts column based on its z-scores. This decision was motivated by the considerable variability observed in the dataset.\n",
    "- Feature Engineering (Primary Category): To enhance the relevance of the 'primary_category' column, non-categorical variables such as 'Mini Size' and 'Men' were reassigned to more meaningful values derived from the 'secondary_category.' Concurrently, categories with a limited product representation were consolidated into an 'Other' category.\n",
    "- Duplicates: I checked and removed duplicate rows for the clean data preprocessing."
   ]
  },
  {
   "cell_type": "code",
   "execution_count": 4,
   "id": "f7e553a2",
   "metadata": {},
   "outputs": [
    {
     "data": {
      "text/html": [
       "<div>\n",
       "<style scoped>\n",
       "    .dataframe tbody tr th:only-of-type {\n",
       "        vertical-align: middle;\n",
       "    }\n",
       "\n",
       "    .dataframe tbody tr th {\n",
       "        vertical-align: top;\n",
       "    }\n",
       "\n",
       "    .dataframe thead th {\n",
       "        text-align: right;\n",
       "    }\n",
       "</style>\n",
       "<table border=\"1\" class=\"dataframe\">\n",
       "  <thead>\n",
       "    <tr style=\"text-align: right;\">\n",
       "      <th></th>\n",
       "      <th>product_name</th>\n",
       "      <th>brand_name</th>\n",
       "      <th>loves_count</th>\n",
       "      <th>rating</th>\n",
       "      <th>price_usd</th>\n",
       "      <th>primary_category</th>\n",
       "      <th>secondary_category</th>\n",
       "    </tr>\n",
       "  </thead>\n",
       "  <tbody>\n",
       "    <tr>\n",
       "      <th>0</th>\n",
       "      <td>Fragrance Discovery Set</td>\n",
       "      <td>19-69</td>\n",
       "      <td>6320</td>\n",
       "      <td>3.6364</td>\n",
       "      <td>35.0</td>\n",
       "      <td>Fragrance</td>\n",
       "      <td>Value &amp; Gift Sets</td>\n",
       "    </tr>\n",
       "    <tr>\n",
       "      <th>1</th>\n",
       "      <td>La Habana Eau de Parfum</td>\n",
       "      <td>19-69</td>\n",
       "      <td>3827</td>\n",
       "      <td>4.1538</td>\n",
       "      <td>195.0</td>\n",
       "      <td>Fragrance</td>\n",
       "      <td>Women</td>\n",
       "    </tr>\n",
       "    <tr>\n",
       "      <th>2</th>\n",
       "      <td>Rainbow Bar Eau de Parfum</td>\n",
       "      <td>19-69</td>\n",
       "      <td>3253</td>\n",
       "      <td>4.2500</td>\n",
       "      <td>195.0</td>\n",
       "      <td>Fragrance</td>\n",
       "      <td>Women</td>\n",
       "    </tr>\n",
       "    <tr>\n",
       "      <th>3</th>\n",
       "      <td>Kasbah Eau de Parfum</td>\n",
       "      <td>19-69</td>\n",
       "      <td>3018</td>\n",
       "      <td>4.4762</td>\n",
       "      <td>195.0</td>\n",
       "      <td>Fragrance</td>\n",
       "      <td>Women</td>\n",
       "    </tr>\n",
       "    <tr>\n",
       "      <th>4</th>\n",
       "      <td>Purple Haze Eau de Parfum</td>\n",
       "      <td>19-69</td>\n",
       "      <td>2691</td>\n",
       "      <td>3.2308</td>\n",
       "      <td>195.0</td>\n",
       "      <td>Fragrance</td>\n",
       "      <td>Women</td>\n",
       "    </tr>\n",
       "  </tbody>\n",
       "</table>\n",
       "</div>"
      ],
      "text/plain": [
       "                product_name brand_name  loves_count  rating  price_usd  \\\n",
       "0    Fragrance Discovery Set      19-69         6320  3.6364       35.0   \n",
       "1    La Habana Eau de Parfum      19-69         3827  4.1538      195.0   \n",
       "2  Rainbow Bar Eau de Parfum      19-69         3253  4.2500      195.0   \n",
       "3       Kasbah Eau de Parfum      19-69         3018  4.4762      195.0   \n",
       "4  Purple Haze Eau de Parfum      19-69         2691  3.2308      195.0   \n",
       "\n",
       "  primary_category secondary_category  \n",
       "0        Fragrance  Value & Gift Sets  \n",
       "1        Fragrance              Women  \n",
       "2        Fragrance              Women  \n",
       "3        Fragrance              Women  \n",
       "4        Fragrance              Women  "
      ]
     },
     "execution_count": 4,
     "metadata": {},
     "output_type": "execute_result"
    }
   ],
   "source": [
    "#Drop features that are not relevant to my research questions\n",
    "\n",
    "dropped_df= raw_df.drop(['product_id','brand_id','reviews','size', 'variation_type', 'variation_value', \\\n",
    "                         'variation_desc', 'value_price_usd', 'sale_price_usd', 'limited_edition', 'new',\\\n",
    "                         'online_only','out_of_stock', 'sephora_exclusive', 'child_count','child_max_price', \\\n",
    "                         'child_min_price', 'highlights', 'tertiary_category', 'ingredients'],axis='columns')\n",
    "dropped_df.shape\n",
    "dropped_df.head()\n"
   ]
  },
  {
   "cell_type": "markdown",
   "id": "4e140d6e-9647-4a6c-aa1f-f8e268a0522e",
   "metadata": {},
   "source": [
    "### Missing Values"
   ]
  },
  {
   "cell_type": "code",
   "execution_count": 5,
   "id": "1be0d8cb",
   "metadata": {},
   "outputs": [
    {
     "data": {
      "text/plain": [
       "product_name            0\n",
       "brand_name              0\n",
       "loves_count             0\n",
       "rating                278\n",
       "price_usd               0\n",
       "primary_category        0\n",
       "secondary_category      8\n",
       "dtype: int64"
      ]
     },
     "execution_count": 5,
     "metadata": {},
     "output_type": "execute_result"
    }
   ],
   "source": [
    "#Check number of null values\n",
    "dropped_df.isnull().sum()"
   ]
  },
  {
   "cell_type": "code",
   "execution_count": 6,
   "id": "f88289f4-c0ae-4830-8cdc-a358c35b58b7",
   "metadata": {},
   "outputs": [
    {
     "data": {
      "text/plain": [
       "product_name          0\n",
       "brand_name            0\n",
       "loves_count           0\n",
       "rating                0\n",
       "price_usd             0\n",
       "primary_category      0\n",
       "secondary_category    0\n",
       "dtype: int64"
      ]
     },
     "execution_count": 6,
     "metadata": {},
     "output_type": "execute_result"
    }
   ],
   "source": [
    "#Create new dataframe after dropping null values. \n",
    "#Since our data frame has over 8,000 values, dropping 278 values will not make a difference in our data analysis.\n",
    "new_df = dropped_df.dropna()\n",
    "\n",
    "#Double check if all null values are dropped\n",
    "new_df.isnull().sum()"
   ]
  },
  {
   "cell_type": "code",
   "execution_count": 7,
   "id": "a881fc71-3779-409f-8c64-db91333385dc",
   "metadata": {},
   "outputs": [
    {
     "name": "stdout",
     "output_type": "stream",
     "text": [
      "(8209, 7)\n"
     ]
    },
    {
     "data": {
      "text/html": [
       "<div>\n",
       "<style scoped>\n",
       "    .dataframe tbody tr th:only-of-type {\n",
       "        vertical-align: middle;\n",
       "    }\n",
       "\n",
       "    .dataframe tbody tr th {\n",
       "        vertical-align: top;\n",
       "    }\n",
       "\n",
       "    .dataframe thead th {\n",
       "        text-align: right;\n",
       "    }\n",
       "</style>\n",
       "<table border=\"1\" class=\"dataframe\">\n",
       "  <thead>\n",
       "    <tr style=\"text-align: right;\">\n",
       "      <th></th>\n",
       "      <th>product_name</th>\n",
       "      <th>brand_name</th>\n",
       "      <th>loves_count</th>\n",
       "      <th>rating</th>\n",
       "      <th>price_usd</th>\n",
       "      <th>primary_category</th>\n",
       "      <th>secondary_category</th>\n",
       "    </tr>\n",
       "  </thead>\n",
       "  <tbody>\n",
       "    <tr>\n",
       "      <th>0</th>\n",
       "      <td>Fragrance Discovery Set</td>\n",
       "      <td>19-69</td>\n",
       "      <td>6320</td>\n",
       "      <td>3.6364</td>\n",
       "      <td>35.0</td>\n",
       "      <td>Fragrance</td>\n",
       "      <td>Value &amp; Gift Sets</td>\n",
       "    </tr>\n",
       "    <tr>\n",
       "      <th>1</th>\n",
       "      <td>La Habana Eau de Parfum</td>\n",
       "      <td>19-69</td>\n",
       "      <td>3827</td>\n",
       "      <td>4.1538</td>\n",
       "      <td>195.0</td>\n",
       "      <td>Fragrance</td>\n",
       "      <td>Women</td>\n",
       "    </tr>\n",
       "    <tr>\n",
       "      <th>2</th>\n",
       "      <td>Rainbow Bar Eau de Parfum</td>\n",
       "      <td>19-69</td>\n",
       "      <td>3253</td>\n",
       "      <td>4.2500</td>\n",
       "      <td>195.0</td>\n",
       "      <td>Fragrance</td>\n",
       "      <td>Women</td>\n",
       "    </tr>\n",
       "    <tr>\n",
       "      <th>3</th>\n",
       "      <td>Kasbah Eau de Parfum</td>\n",
       "      <td>19-69</td>\n",
       "      <td>3018</td>\n",
       "      <td>4.4762</td>\n",
       "      <td>195.0</td>\n",
       "      <td>Fragrance</td>\n",
       "      <td>Women</td>\n",
       "    </tr>\n",
       "    <tr>\n",
       "      <th>4</th>\n",
       "      <td>Purple Haze Eau de Parfum</td>\n",
       "      <td>19-69</td>\n",
       "      <td>2691</td>\n",
       "      <td>3.2308</td>\n",
       "      <td>195.0</td>\n",
       "      <td>Fragrance</td>\n",
       "      <td>Women</td>\n",
       "    </tr>\n",
       "  </tbody>\n",
       "</table>\n",
       "</div>"
      ],
      "text/plain": [
       "                product_name brand_name  loves_count  rating  price_usd  \\\n",
       "0    Fragrance Discovery Set      19-69         6320  3.6364       35.0   \n",
       "1    La Habana Eau de Parfum      19-69         3827  4.1538      195.0   \n",
       "2  Rainbow Bar Eau de Parfum      19-69         3253  4.2500      195.0   \n",
       "3       Kasbah Eau de Parfum      19-69         3018  4.4762      195.0   \n",
       "4  Purple Haze Eau de Parfum      19-69         2691  3.2308      195.0   \n",
       "\n",
       "  primary_category secondary_category  \n",
       "0        Fragrance  Value & Gift Sets  \n",
       "1        Fragrance              Women  \n",
       "2        Fragrance              Women  \n",
       "3        Fragrance              Women  \n",
       "4        Fragrance              Women  "
      ]
     },
     "execution_count": 7,
     "metadata": {},
     "output_type": "execute_result"
    }
   ],
   "source": [
    "#Check shape of our new data frame\n",
    "print(new_df.shape)\n",
    "new_df.head()"
   ]
  },
  {
   "cell_type": "markdown",
   "id": "a15ba823-f509-42e9-a193-42e91f1fef33",
   "metadata": {},
   "source": [
    "### Standardizing"
   ]
  },
  {
   "cell_type": "code",
   "execution_count": 8,
   "id": "d9136b14-4129-4d11-9f87-aedf51f2e288",
   "metadata": {
    "scrolled": true
   },
   "outputs": [
    {
     "data": {
      "text/html": [
       "<div>\n",
       "<style scoped>\n",
       "    .dataframe tbody tr th:only-of-type {\n",
       "        vertical-align: middle;\n",
       "    }\n",
       "\n",
       "    .dataframe tbody tr th {\n",
       "        vertical-align: top;\n",
       "    }\n",
       "\n",
       "    .dataframe thead th {\n",
       "        text-align: right;\n",
       "    }\n",
       "</style>\n",
       "<table border=\"1\" class=\"dataframe\">\n",
       "  <thead>\n",
       "    <tr style=\"text-align: right;\">\n",
       "      <th></th>\n",
       "      <th>product_name</th>\n",
       "      <th>brand_name</th>\n",
       "      <th>loves_count</th>\n",
       "      <th>rating</th>\n",
       "      <th>price_usd</th>\n",
       "      <th>primary_category</th>\n",
       "      <th>secondary_category</th>\n",
       "    </tr>\n",
       "  </thead>\n",
       "  <tbody>\n",
       "    <tr>\n",
       "      <th>0</th>\n",
       "      <td>Fragrance Discovery Set</td>\n",
       "      <td>19-69</td>\n",
       "      <td>6320</td>\n",
       "      <td>3.64</td>\n",
       "      <td>35.00</td>\n",
       "      <td>Fragrance</td>\n",
       "      <td>Value &amp; Gift Sets</td>\n",
       "    </tr>\n",
       "    <tr>\n",
       "      <th>1</th>\n",
       "      <td>La Habana Eau de Parfum</td>\n",
       "      <td>19-69</td>\n",
       "      <td>3827</td>\n",
       "      <td>4.15</td>\n",
       "      <td>195.00</td>\n",
       "      <td>Fragrance</td>\n",
       "      <td>Women</td>\n",
       "    </tr>\n",
       "    <tr>\n",
       "      <th>2</th>\n",
       "      <td>Rainbow Bar Eau de Parfum</td>\n",
       "      <td>19-69</td>\n",
       "      <td>3253</td>\n",
       "      <td>4.25</td>\n",
       "      <td>195.00</td>\n",
       "      <td>Fragrance</td>\n",
       "      <td>Women</td>\n",
       "    </tr>\n",
       "    <tr>\n",
       "      <th>3</th>\n",
       "      <td>Kasbah Eau de Parfum</td>\n",
       "      <td>19-69</td>\n",
       "      <td>3018</td>\n",
       "      <td>4.48</td>\n",
       "      <td>195.00</td>\n",
       "      <td>Fragrance</td>\n",
       "      <td>Women</td>\n",
       "    </tr>\n",
       "    <tr>\n",
       "      <th>4</th>\n",
       "      <td>Purple Haze Eau de Parfum</td>\n",
       "      <td>19-69</td>\n",
       "      <td>2691</td>\n",
       "      <td>3.23</td>\n",
       "      <td>195.00</td>\n",
       "      <td>Fragrance</td>\n",
       "      <td>Women</td>\n",
       "    </tr>\n",
       "  </tbody>\n",
       "</table>\n",
       "</div>"
      ],
      "text/plain": [
       "                product_name brand_name  loves_count  rating  price_usd  \\\n",
       "0    Fragrance Discovery Set      19-69         6320    3.64      35.00   \n",
       "1    La Habana Eau de Parfum      19-69         3827    4.15     195.00   \n",
       "2  Rainbow Bar Eau de Parfum      19-69         3253    4.25     195.00   \n",
       "3       Kasbah Eau de Parfum      19-69         3018    4.48     195.00   \n",
       "4  Purple Haze Eau de Parfum      19-69         2691    3.23     195.00   \n",
       "\n",
       "  primary_category secondary_category  \n",
       "0        Fragrance  Value & Gift Sets  \n",
       "1        Fragrance              Women  \n",
       "2        Fragrance              Women  \n",
       "3        Fragrance              Women  \n",
       "4        Fragrance              Women  "
      ]
     },
     "execution_count": 8,
     "metadata": {},
     "output_type": "execute_result"
    }
   ],
   "source": [
    "#Change price and rating to two decimal places\n",
    "\n",
    "new_df['price_usd'].unique()\n",
    "new_df.head()\n",
    "\n",
    "pd.set_option('display.float_format', '{:.2f}'.format)\n",
    "new_df.head()\n"
   ]
  },
  {
   "cell_type": "markdown",
   "id": "d51e082a-aaa7-4bff-8d85-4b172c396f0e",
   "metadata": {},
   "source": [
    "### Feature Engineering with Brand Name"
   ]
  },
  {
   "cell_type": "code",
   "execution_count": 9,
   "id": "141933cc-e6b3-478b-8d3a-17066b1f63fb",
   "metadata": {},
   "outputs": [
    {
     "name": "stdout",
     "output_type": "stream",
     "text": [
      "302\n"
     ]
    },
    {
     "data": {
      "text/plain": [
       "brand_name\n",
       "SEPHORA COLLECTION    346\n",
       "CLINIQUE              177\n",
       "Dior                  133\n",
       "tarte                 126\n",
       "Bumble and bumble     107\n",
       "                     ... \n",
       "Aquis                   1\n",
       "dpHUE                   1\n",
       "Eight & Bob             1\n",
       "PROVEN Skincare         1\n",
       "Jillian Dempsey         1\n",
       "Name: count, Length: 302, dtype: int64"
      ]
     },
     "execution_count": 9,
     "metadata": {},
     "output_type": "execute_result"
    }
   ],
   "source": [
    "#Check for the count of each unique brand name.\n",
    "\n",
    "print(len(new_df['brand_name'].unique()))\n",
    "new_df.loc[:, 'brand_name'] = new_df['brand_name'].apply(lambda x: x.strip())\n",
    "brand_stats = new_df['brand_name'].value_counts(ascending=False)\n",
    "brand_stats"
   ]
  },
  {
   "cell_type": "code",
   "execution_count": 10,
   "id": "05a26b9f-bef8-4078-af1f-97f6729fea59",
   "metadata": {},
   "outputs": [
    {
     "name": "stdout",
     "output_type": "stream",
     "text": [
      "0\n"
     ]
    },
    {
     "data": {
      "text/html": [
       "<div>\n",
       "<style scoped>\n",
       "    .dataframe tbody tr th:only-of-type {\n",
       "        vertical-align: middle;\n",
       "    }\n",
       "\n",
       "    .dataframe tbody tr th {\n",
       "        vertical-align: top;\n",
       "    }\n",
       "\n",
       "    .dataframe thead th {\n",
       "        text-align: right;\n",
       "    }\n",
       "</style>\n",
       "<table border=\"1\" class=\"dataframe\">\n",
       "  <thead>\n",
       "    <tr style=\"text-align: right;\">\n",
       "      <th></th>\n",
       "      <th>product_name</th>\n",
       "      <th>brand_name</th>\n",
       "      <th>loves_count</th>\n",
       "      <th>rating</th>\n",
       "      <th>price_usd</th>\n",
       "      <th>primary_category</th>\n",
       "      <th>secondary_category</th>\n",
       "    </tr>\n",
       "  </thead>\n",
       "  <tbody>\n",
       "    <tr>\n",
       "      <th>0</th>\n",
       "      <td>Fragrance Discovery Set</td>\n",
       "      <td>19-69</td>\n",
       "      <td>6320</td>\n",
       "      <td>3.64</td>\n",
       "      <td>35.00</td>\n",
       "      <td>Fragrance</td>\n",
       "      <td>Value &amp; Gift Sets</td>\n",
       "    </tr>\n",
       "    <tr>\n",
       "      <th>1</th>\n",
       "      <td>La Habana Eau de Parfum</td>\n",
       "      <td>19-69</td>\n",
       "      <td>3827</td>\n",
       "      <td>4.15</td>\n",
       "      <td>195.00</td>\n",
       "      <td>Fragrance</td>\n",
       "      <td>Women</td>\n",
       "    </tr>\n",
       "    <tr>\n",
       "      <th>2</th>\n",
       "      <td>Rainbow Bar Eau de Parfum</td>\n",
       "      <td>19-69</td>\n",
       "      <td>3253</td>\n",
       "      <td>4.25</td>\n",
       "      <td>195.00</td>\n",
       "      <td>Fragrance</td>\n",
       "      <td>Women</td>\n",
       "    </tr>\n",
       "    <tr>\n",
       "      <th>3</th>\n",
       "      <td>Kasbah Eau de Parfum</td>\n",
       "      <td>19-69</td>\n",
       "      <td>3018</td>\n",
       "      <td>4.48</td>\n",
       "      <td>195.00</td>\n",
       "      <td>Fragrance</td>\n",
       "      <td>Women</td>\n",
       "    </tr>\n",
       "    <tr>\n",
       "      <th>4</th>\n",
       "      <td>Purple Haze Eau de Parfum</td>\n",
       "      <td>19-69</td>\n",
       "      <td>2691</td>\n",
       "      <td>3.23</td>\n",
       "      <td>195.00</td>\n",
       "      <td>Fragrance</td>\n",
       "      <td>Women</td>\n",
       "    </tr>\n",
       "  </tbody>\n",
       "</table>\n",
       "</div>"
      ],
      "text/plain": [
       "                product_name brand_name  loves_count  rating  price_usd  \\\n",
       "0    Fragrance Discovery Set      19-69         6320    3.64      35.00   \n",
       "1    La Habana Eau de Parfum      19-69         3827    4.15     195.00   \n",
       "2  Rainbow Bar Eau de Parfum      19-69         3253    4.25     195.00   \n",
       "3       Kasbah Eau de Parfum      19-69         3018    4.48     195.00   \n",
       "4  Purple Haze Eau de Parfum      19-69         2691    3.23     195.00   \n",
       "\n",
       "  primary_category secondary_category  \n",
       "0        Fragrance  Value & Gift Sets  \n",
       "1        Fragrance              Women  \n",
       "2        Fragrance              Women  \n",
       "3        Fragrance              Women  \n",
       "4        Fragrance              Women  "
      ]
     },
     "execution_count": 10,
     "metadata": {},
     "output_type": "execute_result"
    }
   ],
   "source": [
    "#Change brand names with less than 10 products to Other.\n",
    "\n",
    "brand_stats_less_than_10 = brand_stats[brand_stats <= 10]\n",
    "\n",
    "new_df.loc[:, 'brand_name'] = new_df['brand_name'].apply(lambda x: 'Other' if x in brand_stats_less_than_10 else x)\n",
    "\n",
    "#Double check this works\n",
    "updated_brand_stats = new_df['brand_name'].value_counts(ascending=False)\n",
    "print(len(updated_brand_stats[updated_brand_stats <= 10]))\n",
    "\n",
    "new_df.head()"
   ]
  },
  {
   "cell_type": "markdown",
   "id": "4156891f-0027-49bb-a33b-93e9019bdce0",
   "metadata": {},
   "source": [
    "### Outliers"
   ]
  },
  {
   "cell_type": "code",
   "execution_count": 11,
   "id": "22e859a5-c439-4068-928c-ad12cfae017f",
   "metadata": {},
   "outputs": [
    {
     "data": {
      "text/plain": [
       "count      8209.00\n",
       "mean      30160.74\n",
       "std       67014.73\n",
       "min           0.00\n",
       "25%        4162.00\n",
       "50%       10456.00\n",
       "75%       27800.00\n",
       "max     1401068.00\n",
       "Name: loves_count, dtype: float64"
      ]
     },
     "execution_count": 11,
     "metadata": {},
     "output_type": "execute_result"
    }
   ],
   "source": [
    "# Check variability of love_counts\n",
    "\n",
    "new_df.loves_count.describe()"
   ]
  },
  {
   "cell_type": "code",
   "execution_count": 12,
   "id": "f82a7bde-39b9-46fb-8780-7b65bded0b32",
   "metadata": {},
   "outputs": [
    {
     "name": "stdout",
     "output_type": "stream",
     "text": [
      "8045\n"
     ]
    }
   ],
   "source": [
    "# Find outliers with z-scores \n",
    "z_scores = (new_df['loves_count'] - new_df['loves_count'].mean()) / new_df['loves_count'].std()\n",
    "\n",
    "# Filter out rows where the absolute z-score is greater than the threshold in a new dataframe\n",
    "new_df_no_outliers = new_df[np.abs(z_scores) <= 3.0]\n",
    "\n",
    "print(len(new_df_no_outliers))\n"
   ]
  },
  {
   "cell_type": "code",
   "execution_count": 13,
   "id": "acd93c48-2fa8-4366-b19a-1ccafd64666e",
   "metadata": {},
   "outputs": [
    {
     "data": {
      "text/plain": [
       "count     8045.00\n",
       "mean     22800.56\n",
       "std      33435.44\n",
       "min          0.00\n",
       "25%       4079.00\n",
       "50%      10123.00\n",
       "75%      26153.00\n",
       "max     231052.00\n",
       "Name: loves_count, dtype: float64"
      ]
     },
     "execution_count": 13,
     "metadata": {},
     "output_type": "execute_result"
    }
   ],
   "source": [
    "# Check variability after cleaning\n",
    "new_df_no_outliers.loves_count.describe()"
   ]
  },
  {
   "cell_type": "code",
   "execution_count": 14,
   "id": "4b4b3ecb-63d0-4bc1-8027-af563996ea3e",
   "metadata": {},
   "outputs": [
    {
     "data": {
      "text/html": [
       "<div>\n",
       "<style scoped>\n",
       "    .dataframe tbody tr th:only-of-type {\n",
       "        vertical-align: middle;\n",
       "    }\n",
       "\n",
       "    .dataframe tbody tr th {\n",
       "        vertical-align: top;\n",
       "    }\n",
       "\n",
       "    .dataframe thead th {\n",
       "        text-align: right;\n",
       "    }\n",
       "</style>\n",
       "<table border=\"1\" class=\"dataframe\">\n",
       "  <thead>\n",
       "    <tr style=\"text-align: right;\">\n",
       "      <th></th>\n",
       "      <th>product_name</th>\n",
       "      <th>brand_name</th>\n",
       "      <th>loves_count</th>\n",
       "      <th>rating</th>\n",
       "      <th>price_usd</th>\n",
       "      <th>primary_category</th>\n",
       "      <th>secondary_category</th>\n",
       "    </tr>\n",
       "  </thead>\n",
       "  <tbody>\n",
       "    <tr>\n",
       "      <th>0</th>\n",
       "      <td>Fragrance Discovery Set</td>\n",
       "      <td>19-69</td>\n",
       "      <td>6320</td>\n",
       "      <td>3.64</td>\n",
       "      <td>35.00</td>\n",
       "      <td>Fragrance</td>\n",
       "      <td>Value &amp; Gift Sets</td>\n",
       "    </tr>\n",
       "    <tr>\n",
       "      <th>1</th>\n",
       "      <td>La Habana Eau de Parfum</td>\n",
       "      <td>19-69</td>\n",
       "      <td>3827</td>\n",
       "      <td>4.15</td>\n",
       "      <td>195.00</td>\n",
       "      <td>Fragrance</td>\n",
       "      <td>Women</td>\n",
       "    </tr>\n",
       "    <tr>\n",
       "      <th>2</th>\n",
       "      <td>Rainbow Bar Eau de Parfum</td>\n",
       "      <td>19-69</td>\n",
       "      <td>3253</td>\n",
       "      <td>4.25</td>\n",
       "      <td>195.00</td>\n",
       "      <td>Fragrance</td>\n",
       "      <td>Women</td>\n",
       "    </tr>\n",
       "    <tr>\n",
       "      <th>3</th>\n",
       "      <td>Kasbah Eau de Parfum</td>\n",
       "      <td>19-69</td>\n",
       "      <td>3018</td>\n",
       "      <td>4.48</td>\n",
       "      <td>195.00</td>\n",
       "      <td>Fragrance</td>\n",
       "      <td>Women</td>\n",
       "    </tr>\n",
       "    <tr>\n",
       "      <th>4</th>\n",
       "      <td>Purple Haze Eau de Parfum</td>\n",
       "      <td>19-69</td>\n",
       "      <td>2691</td>\n",
       "      <td>3.23</td>\n",
       "      <td>195.00</td>\n",
       "      <td>Fragrance</td>\n",
       "      <td>Women</td>\n",
       "    </tr>\n",
       "  </tbody>\n",
       "</table>\n",
       "</div>"
      ],
      "text/plain": [
       "                product_name brand_name  loves_count  rating  price_usd  \\\n",
       "0    Fragrance Discovery Set      19-69         6320    3.64      35.00   \n",
       "1    La Habana Eau de Parfum      19-69         3827    4.15     195.00   \n",
       "2  Rainbow Bar Eau de Parfum      19-69         3253    4.25     195.00   \n",
       "3       Kasbah Eau de Parfum      19-69         3018    4.48     195.00   \n",
       "4  Purple Haze Eau de Parfum      19-69         2691    3.23     195.00   \n",
       "\n",
       "  primary_category secondary_category  \n",
       "0        Fragrance  Value & Gift Sets  \n",
       "1        Fragrance              Women  \n",
       "2        Fragrance              Women  \n",
       "3        Fragrance              Women  \n",
       "4        Fragrance              Women  "
      ]
     },
     "execution_count": 14,
     "metadata": {},
     "output_type": "execute_result"
    }
   ],
   "source": [
    "new_df_no_outliers.head()"
   ]
  },
  {
   "cell_type": "markdown",
   "id": "b70eb15e-0340-4b85-9b82-c05744fffcbc",
   "metadata": {},
   "source": [
    "### Feature Engineering with Category Name"
   ]
  },
  {
   "cell_type": "code",
   "execution_count": 15,
   "id": "3140ea75-ea39-4a3b-ab42-8ffcf0e460c0",
   "metadata": {},
   "outputs": [
    {
     "data": {
      "text/plain": [
       "array(['Fragrance', 'Bath & Body', 'Mini Size', 'Hair', 'Makeup',\n",
       "       'Skincare', 'Tools & Brushes', 'Men'], dtype=object)"
      ]
     },
     "execution_count": 15,
     "metadata": {},
     "output_type": "execute_result"
    }
   ],
   "source": [
    "# Check for Category Names\n",
    "new_df_no_outliers['primary_category'].unique()"
   ]
  },
  {
   "cell_type": "code",
   "execution_count": 16,
   "id": "711769cb-7fb8-4789-8ec2-672cf9bc2b7d",
   "metadata": {},
   "outputs": [
    {
     "name": "stdout",
     "output_type": "stream",
     "text": [
      "primary_category\n",
      "Skincare           2316\n",
      "Makeup             2215\n",
      "Hair               1410\n",
      "Fragrance          1334\n",
      "Bath & Body         393\n",
      "Mini Size           269\n",
      "Men                  58\n",
      "Tools & Brushes      50\n",
      "Name: count, dtype: int64\n"
     ]
    }
   ],
   "source": [
    "# Look for total products in each category\n",
    "category_counts = new_df_no_outliers['primary_category'].value_counts()\n",
    "print(category_counts)"
   ]
  },
  {
   "cell_type": "code",
   "execution_count": 17,
   "id": "236ab78f-4635-46ae-abe2-5a0d4977091c",
   "metadata": {},
   "outputs": [
    {
     "name": "stdout",
     "output_type": "stream",
     "text": [
      "primary_category\n",
      "Skincare             2378\n",
      "Makeup               2347\n",
      "Hair                 1459\n",
      "Fragrance            1348\n",
      "Bath & Body           400\n",
      "Men                    58\n",
      "Tools & Brushes        50\n",
      "Value & Gift Sets       5\n",
      "Name: count, dtype: int64\n"
     ]
    }
   ],
   "source": [
    "# Replace Mini Size with the more detailed category in the Secondary Category so it's not misleading\n",
    "new_values = new_df_no_outliers['primary_category'] == 'Mini Size'\n",
    "new_df_no_outliers.loc[new_values, 'primary_category'] = new_df_no_outliers.loc[new_values, 'secondary_category']\n",
    "\n",
    "# Look for total products in each category again\n",
    "category_counts = new_df_no_outliers['primary_category'].value_counts()\n",
    "print(category_counts)"
   ]
  },
  {
   "cell_type": "code",
   "execution_count": 18,
   "id": "abc2bc94-f758-4f70-bb77-df27ca1ee3b5",
   "metadata": {},
   "outputs": [
    {
     "name": "stdout",
     "output_type": "stream",
     "text": [
      "primary_category\n",
      "Skincare             2410\n",
      "Makeup               2347\n",
      "Hair                 1462\n",
      "Fragrance            1348\n",
      "Bath & Body           400\n",
      "Tools & Brushes        50\n",
      "Shaving                14\n",
      "Value & Gift Sets       9\n",
      "Other Needs             5\n",
      "Name: count, dtype: int64\n"
     ]
    }
   ],
   "source": [
    "# Replace Men with the more detailed category in the Secondary Category so it's not misleading\n",
    "\n",
    "new_values_men = new_df_no_outliers['primary_category'] == 'Men'\n",
    "new_df_no_outliers.loc[new_values_men, 'primary_category'] = new_df_no_outliers.loc[new_values_men, 'secondary_category']\n",
    "\n",
    "# Double check for total products in each category again\n",
    "\n",
    "category_counts = new_df_no_outliers['primary_category'].value_counts()\n",
    "print(category_counts)"
   ]
  },
  {
   "cell_type": "code",
   "execution_count": 19,
   "id": "7fa61260-f348-46de-8c8a-a12ea4cbe029",
   "metadata": {},
   "outputs": [
    {
     "name": "stdout",
     "output_type": "stream",
     "text": [
      "primary_category\n",
      "Skincare             2410\n",
      "Makeup               2347\n",
      "Hair                 1462\n",
      "Fragrance            1348\n",
      "Bath & Body           400\n",
      "Tools & Brushes        64\n",
      "Value & Gift Sets       9\n",
      "Other Needs             5\n",
      "Name: count, dtype: int64\n"
     ]
    },
    {
     "name": "stderr",
     "output_type": "stream",
     "text": [
      "C:\\Users\\ashle\\AppData\\Local\\Temp\\ipykernel_22532\\827364298.py:3: SettingWithCopyWarning: \n",
      "A value is trying to be set on a copy of a slice from a DataFrame.\n",
      "Try using .loc[row_indexer,col_indexer] = value instead\n",
      "\n",
      "See the caveats in the documentation: https://pandas.pydata.org/pandas-docs/stable/user_guide/indexing.html#returning-a-view-versus-a-copy\n",
      "  new_df_no_outliers['primary_category'] = new_df_no_outliers['primary_category'].replace({'Shaving': 'Tools & Brushes'})\n"
     ]
    }
   ],
   "source": [
    "# Combined Shaving and Tools & Brushes into own category since both are related\n",
    "\n",
    "new_df_no_outliers['primary_category'] = new_df_no_outliers['primary_category'].replace({'Shaving': 'Tools & Brushes'})\n",
    "\n",
    "category_counts = new_df_no_outliers['primary_category'].value_counts()\n",
    "print(category_counts)"
   ]
  },
  {
   "cell_type": "code",
   "execution_count": 20,
   "id": "29184f3c-56d9-437e-bc8c-4ab51278460a",
   "metadata": {},
   "outputs": [
    {
     "name": "stdout",
     "output_type": "stream",
     "text": [
      "primary_category\n",
      "Skincare           2410\n",
      "Makeup             2347\n",
      "Hair               1462\n",
      "Fragrance          1348\n",
      "Bath & Body         400\n",
      "Tools & Brushes      64\n",
      "Other                14\n",
      "Name: count, dtype: int64\n"
     ]
    },
    {
     "name": "stderr",
     "output_type": "stream",
     "text": [
      "C:\\Users\\ashle\\AppData\\Local\\Temp\\ipykernel_22532\\2207544356.py:2: SettingWithCopyWarning: \n",
      "A value is trying to be set on a copy of a slice from a DataFrame.\n",
      "Try using .loc[row_indexer,col_indexer] = value instead\n",
      "\n",
      "See the caveats in the documentation: https://pandas.pydata.org/pandas-docs/stable/user_guide/indexing.html#returning-a-view-versus-a-copy\n",
      "  new_df_no_outliers['primary_category'] = new_df_no_outliers['primary_category'].replace({'Value & Gift Sets': 'Other', 'Other Needs': 'Other'})\n"
     ]
    }
   ],
   "source": [
    "# Replace 'Value & Gift Sets' and 'Other Needs' with 'Other' in the primary_category column\n",
    "new_df_no_outliers['primary_category'] = new_df_no_outliers['primary_category'].replace({'Value & Gift Sets': 'Other', 'Other Needs': 'Other'})\n",
    "\n",
    "category_counts = new_df_no_outliers['primary_category'].value_counts()\n",
    "print(category_counts)"
   ]
  },
  {
   "cell_type": "code",
   "execution_count": 21,
   "id": "74f89fd2-1310-4696-a920-34baaaab774d",
   "metadata": {},
   "outputs": [],
   "source": [
    "# Drop secondary_category column after cleaning primary_category\n",
    "\n",
    "final_df = new_df_no_outliers.drop(columns=['secondary_category'])"
   ]
  },
  {
   "cell_type": "markdown",
   "id": "48313836-57be-4447-9382-72759901b933",
   "metadata": {},
   "source": [
    "### Duplicates"
   ]
  },
  {
   "cell_type": "code",
   "execution_count": 22,
   "id": "d3af4e89-420a-4c8d-a7f4-4c14ab462609",
   "metadata": {},
   "outputs": [
    {
     "name": "stdout",
     "output_type": "stream",
     "text": [
      "Empty DataFrame\n",
      "Columns: [product_name, brand_name, loves_count, rating, price_usd, primary_category]\n",
      "Index: []\n"
     ]
    }
   ],
   "source": [
    "# Display the rows that are duplicates\n",
    "\n",
    "duplicates = final_df.duplicated()\n",
    "\n",
    "# Display the rows that are duplicates\n",
    "duplicate_rows = final_df[duplicates]\n",
    "print(duplicate_rows)"
   ]
  },
  {
   "cell_type": "code",
   "execution_count": 23,
   "id": "a503b7a1-2217-4526-bcf7-541b53494b9c",
   "metadata": {},
   "outputs": [
    {
     "data": {
      "text/html": [
       "<div>\n",
       "<style scoped>\n",
       "    .dataframe tbody tr th:only-of-type {\n",
       "        vertical-align: middle;\n",
       "    }\n",
       "\n",
       "    .dataframe tbody tr th {\n",
       "        vertical-align: top;\n",
       "    }\n",
       "\n",
       "    .dataframe thead th {\n",
       "        text-align: right;\n",
       "    }\n",
       "</style>\n",
       "<table border=\"1\" class=\"dataframe\">\n",
       "  <thead>\n",
       "    <tr style=\"text-align: right;\">\n",
       "      <th></th>\n",
       "      <th>product_name</th>\n",
       "      <th>brand_name</th>\n",
       "      <th>loves_count</th>\n",
       "      <th>rating</th>\n",
       "      <th>price_usd</th>\n",
       "      <th>primary_category</th>\n",
       "    </tr>\n",
       "  </thead>\n",
       "  <tbody>\n",
       "    <tr>\n",
       "      <th>0</th>\n",
       "      <td>Fragrance Discovery Set</td>\n",
       "      <td>19-69</td>\n",
       "      <td>6320</td>\n",
       "      <td>3.64</td>\n",
       "      <td>35.00</td>\n",
       "      <td>Fragrance</td>\n",
       "    </tr>\n",
       "    <tr>\n",
       "      <th>1</th>\n",
       "      <td>La Habana Eau de Parfum</td>\n",
       "      <td>19-69</td>\n",
       "      <td>3827</td>\n",
       "      <td>4.15</td>\n",
       "      <td>195.00</td>\n",
       "      <td>Fragrance</td>\n",
       "    </tr>\n",
       "    <tr>\n",
       "      <th>2</th>\n",
       "      <td>Rainbow Bar Eau de Parfum</td>\n",
       "      <td>19-69</td>\n",
       "      <td>3253</td>\n",
       "      <td>4.25</td>\n",
       "      <td>195.00</td>\n",
       "      <td>Fragrance</td>\n",
       "    </tr>\n",
       "    <tr>\n",
       "      <th>3</th>\n",
       "      <td>Kasbah Eau de Parfum</td>\n",
       "      <td>19-69</td>\n",
       "      <td>3018</td>\n",
       "      <td>4.48</td>\n",
       "      <td>195.00</td>\n",
       "      <td>Fragrance</td>\n",
       "    </tr>\n",
       "    <tr>\n",
       "      <th>4</th>\n",
       "      <td>Purple Haze Eau de Parfum</td>\n",
       "      <td>19-69</td>\n",
       "      <td>2691</td>\n",
       "      <td>3.23</td>\n",
       "      <td>195.00</td>\n",
       "      <td>Fragrance</td>\n",
       "    </tr>\n",
       "  </tbody>\n",
       "</table>\n",
       "</div>"
      ],
      "text/plain": [
       "                product_name brand_name  loves_count  rating  price_usd  \\\n",
       "0    Fragrance Discovery Set      19-69         6320    3.64      35.00   \n",
       "1    La Habana Eau de Parfum      19-69         3827    4.15     195.00   \n",
       "2  Rainbow Bar Eau de Parfum      19-69         3253    4.25     195.00   \n",
       "3       Kasbah Eau de Parfum      19-69         3018    4.48     195.00   \n",
       "4  Purple Haze Eau de Parfum      19-69         2691    3.23     195.00   \n",
       "\n",
       "  primary_category  \n",
       "0        Fragrance  \n",
       "1        Fragrance  \n",
       "2        Fragrance  \n",
       "3        Fragrance  \n",
       "4        Fragrance  "
      ]
     },
     "execution_count": 23,
     "metadata": {},
     "output_type": "execute_result"
    }
   ],
   "source": [
    "# Final dataframe\n",
    "final_df.head()"
   ]
  },
  {
   "cell_type": "code",
   "execution_count": 24,
   "id": "ba34aac8-e9cd-43b1-b57f-5f8b7eb36da7",
   "metadata": {},
   "outputs": [],
   "source": [
    "final_df.to_csv('appendix.csv')"
   ]
  }
 ],
 "metadata": {
  "kernelspec": {
   "display_name": "Python 3 (ipykernel)",
   "language": "python",
   "name": "python3"
  },
  "language_info": {
   "codemirror_mode": {
    "name": "ipython",
    "version": 3
   },
   "file_extension": ".py",
   "mimetype": "text/x-python",
   "name": "python",
   "nbconvert_exporter": "python",
   "pygments_lexer": "ipython3",
   "version": "3.9.18"
  }
 },
 "nbformat": 4,
 "nbformat_minor": 5
}
